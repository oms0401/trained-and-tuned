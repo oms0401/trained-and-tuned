{
  "nbformat": 4,
  "nbformat_minor": 0,
  "metadata": {
    "colab": {
      "provenance": [],
      "include_colab_link": true
    },
    "kernelspec": {
      "name": "python3",
      "display_name": "Python 3"
    },
    "language_info": {
      "name": "python"
    }
  },
  "cells": [
    {
      "cell_type": "markdown",
      "metadata": {
        "id": "view-in-github",
        "colab_type": "text"
      },
      "source": [
        "<a href=\"https://colab.research.google.com/github/oms0401/trained-and-tuned/blob/main/Trained_and_Tuned'25.ipynb\" target=\"_parent\"><img src=\"https://colab.research.google.com/assets/colab-badge.svg\" alt=\"Open In Colab\"/></a>"
      ]
    },
    {
      "cell_type": "markdown",
      "source": [
        "# **Welcome to Your First Python Introduction!**"
      ],
      "metadata": {
        "id": "mrRwyvXv_7hL"
      }
    },
    {
      "cell_type": "markdown",
      "source": [
        "In this 3-hour session, we'll explore the basics of Python,\n",
        "a versatile and beginner-friendly programming language.\n",
        "We'll cover several core concepts to get you started on your\n",
        "programming journey.\n"
      ],
      "metadata": {
        "id": "L6PiNWKZAKZ4"
      }
    },
    {
      "cell_type": "markdown",
      "source": [
        "#Let's begin!"
      ],
      "metadata": {
        "id": "7j7IjtrcAcN4"
      }
    },
    {
      "cell_type": "markdown",
      "source": [
        "**Section 1**: What is Python? (Approx. 15 minutes)\n",
        "\n",
        "   - Python is a high-level, interpreted programming language.\n",
        "     - \"High-level\" means it's written in a way that's relatively easy for humans to read and write.\n",
        "     - \"Interpreted\" means that the code is executed line by line by a program called an interpreter,\n",
        "       which makes it quick to test small pieces of code.\n",
        "   - Created by Guido van Rossum and first released in 1991.\n",
        "   - Known for its clear syntax and readability (it's often said to be like \"executable pseudocode\").\n",
        "   - It's versatile: used for web development, data science, artificial intelligence, scripting, and much more!\n",
        "   </br>\n",
        "\n",
        "  **Key Features:**\n",
        "    \n",
        "   - Beginner-Friendly: Simple, consistent syntax.\n",
        "   - Large Standard Library: Lots of built-in tools and modules.\n",
        "   - Dynamically Typed: You don't need to declare variable types explicitly.\n",
        "   - Cross-Platform: Runs on Windows, macOS, Linux, etc.\n",
        "   - Open Source: Free to use and distribute.\n",
        "   - Large Community: Plenty of resources and support available online.\n",
        "\n",
        " Why Python for beginners?\n",
        "   - It allows you to focus on programming concepts rather than complex syntax.\n",
        "   - It's widely used in academia and industry, making it a valuable skill.\n"
      ],
      "metadata": {
        "id": "4-ASC2XxAeyR"
      }
    },
    {
      "cell_type": "markdown",
      "source": [
        "**Section 2:** Hello, World! - Your First Python Program (Approx. 10 minutes)\n",
        "\n",
        "The \"Hello, World!\" program is a classic first step in learning any new programming language.\n",
        "It's a simple program that outputs the text \"Hello, World!\" to the screen.\n",
        "In Python, we use the `print()` function to display output.\n",
        "</br>\n",
        "**Code Example:**\n"
      ],
      "metadata": {
        "id": "hPaXbofWDGej"
      }
    },
    {
      "cell_type": "code",
      "execution_count": null,
      "metadata": {
        "colab": {
          "base_uri": "https://localhost:8080/"
        },
        "id": "s_eX3319_5d6",
        "outputId": "b6ae32ee-9444-4f20-964f-0cd7a6880ba8"
      },
      "outputs": [
        {
          "output_type": "stream",
          "name": "stdout",
          "text": [
            "Hello, World!\n"
          ]
        }
      ],
      "source": [
        "print(\"Hello, World!\")"
      ]
    },
    {
      "cell_type": "markdown",
      "source": [
        "Try it yourself! You can change the message inside the quotation marks."
      ],
      "metadata": {
        "id": "3udGk5u-Eoeu"
      }
    },
    {
      "cell_type": "code",
      "source": [
        "print(\"Python is fun!\")"
      ],
      "metadata": {
        "colab": {
          "base_uri": "https://localhost:8080/"
        },
        "id": "Y1pr5Nt7Elg-",
        "outputId": "bd46df9f-40c7-4be1-94ff-b0e6a24312c1"
      },
      "execution_count": null,
      "outputs": [
        {
          "output_type": "stream",
          "name": "stdout",
          "text": [
            "Python is fun!\n"
          ]
        }
      ]
    },
    {
      "cell_type": "markdown",
      "source": [
        "**Comments:**\n",
        "</br>\n",
        " Lines starting with a '#' are comments.\n",
        " Python ignores comments; they are for humans to read and understand the code.\n",
        " It's good practice to comment your code to explain what it does."
      ],
      "metadata": {
        "id": "LGE0soRfEw5Z"
      }
    },
    {
      "cell_type": "markdown",
      "source": [
        "**Section 3:** Variables and Basic Data Types (Approx. 30 minutes)\n",
        "</br>\n",
        "**Variables:**\n",
        "   - Variables are like containers that store data values.\n",
        "   - You give a variable a name, and then you can assign a value to it.\n",
        "   - In Python, you don't need to declare the type of a variable. Python figures it out automatically.\n",
        "\n",
        "**Code Example:**"
      ],
      "metadata": {
        "id": "QB7wLY85E-sU"
      }
    },
    {
      "cell_type": "code",
      "source": [
        "message = \"This is a message stored in a variable.\"\n",
        "print(message)"
      ],
      "metadata": {
        "colab": {
          "base_uri": "https://localhost:8080/"
        },
        "id": "eBaDldPEEuV2",
        "outputId": "3fd24844-f854-4350-dd56-85eda4330f90"
      },
      "execution_count": null,
      "outputs": [
        {
          "output_type": "stream",
          "name": "stdout",
          "text": [
            "This is a message stored in a variable.\n"
          ]
        }
      ]
    },
    {
      "cell_type": "code",
      "source": [
        "student_name = \"Alice\"\n",
        "student_age = 20\n",
        "print(student_name)\n",
        "print(student_age)\n"
      ],
      "metadata": {
        "colab": {
          "base_uri": "https://localhost:8080/"
        },
        "id": "wmxL4RwTFfH7",
        "outputId": "478bb166-8ace-4bb3-81c0-e40bf9edf9b0"
      },
      "execution_count": null,
      "outputs": [
        {
          "output_type": "stream",
          "name": "stdout",
          "text": [
            "Alice\n",
            "20\n"
          ]
        }
      ]
    },
    {
      "cell_type": "markdown",
      "source": [
        "**Naming Variables:**\n",
        "   - Names can contain letters, numbers, and underscores (_).\n",
        "   - Cannot start with a number.\n",
        "   - Case-sensitive (e.g., `myVariable` is different from `myvariable`).\n",
        "   - Choose descriptive names (e.g., `user_name` instead of `un`).\n",
        "\n",
        "**Basic Data Types:**\n",
        "</br>\n",
        "Python has several built-in data types. Let's look at some common ones:\n",
        "\n",
        "1. Integers (int): Whole numbers (e.g., -5, 0, 100)."
      ],
      "metadata": {
        "id": "QWBHggCLFl4I"
      }
    },
    {
      "cell_type": "code",
      "source": [
        "my_integer = 10\n",
        "print(my_integer)\n",
        "print(type(my_integer)) # The type() function tells you the data type\n"
      ],
      "metadata": {
        "colab": {
          "base_uri": "https://localhost:8080/"
        },
        "id": "PMqtTu3MFhee",
        "outputId": "7f9c37d4-8397-4b5a-c791-de580eb504a1"
      },
      "execution_count": null,
      "outputs": [
        {
          "output_type": "stream",
          "name": "stdout",
          "text": [
            "10\n",
            "<class 'int'>\n"
          ]
        }
      ]
    },
    {
      "cell_type": "markdown",
      "source": [
        "2. Floating-Point Numbers (float): Numbers with a decimal point (e.g., -3.14, 0.0, 99.99)."
      ],
      "metadata": {
        "id": "lbWq-FSuF4_W"
      }
    },
    {
      "cell_type": "code",
      "source": [
        "my_float = 3.14159\n",
        "print(my_float)\n",
        "print(type(my_float))"
      ],
      "metadata": {
        "colab": {
          "base_uri": "https://localhost:8080/"
        },
        "id": "ZEzSxn6rF2pT",
        "outputId": "6f841373-33b6-4ac3-e085-ecba460e2b8d"
      },
      "execution_count": null,
      "outputs": [
        {
          "output_type": "stream",
          "name": "stdout",
          "text": [
            "3.14159\n",
            "<class 'float'>\n"
          ]
        }
      ]
    },
    {
      "cell_type": "markdown",
      "source": [
        "3. Strings (str): Sequences of characters, used for text. Enclosed in single (' ') or double (\" \") quotes."
      ],
      "metadata": {
        "id": "-VaQHk75F_r7"
      }
    },
    {
      "cell_type": "code",
      "source": [
        "my_string = \"Hello, Python students!\"\n",
        "another_string = 'Python is powerful.'\n",
        "print(my_string)\n",
        "print(another_string)\n",
        "print(type(my_string))"
      ],
      "metadata": {
        "colab": {
          "base_uri": "https://localhost:8080/"
        },
        "id": "DTq8z4SfF8nk",
        "outputId": "d424e7f6-7abc-4803-c746-0ec2d8177c39"
      },
      "execution_count": null,
      "outputs": [
        {
          "output_type": "stream",
          "name": "stdout",
          "text": [
            "Hello, Python students!\n",
            "Python is powerful.\n",
            "<class 'str'>\n"
          ]
        }
      ]
    },
    {
      "cell_type": "markdown",
      "source": [
        "**String Concatenation (joining strings):**"
      ],
      "metadata": {
        "id": "juoG7kk8GHE2"
      }
    },
    {
      "cell_type": "code",
      "source": [
        "first_name = \"John\"\n",
        "last_name = \"Doe\"\n",
        "full_name = first_name + \" \" + last_name # The \" \" adds a space\n",
        "print(full_name)"
      ],
      "metadata": {
        "colab": {
          "base_uri": "https://localhost:8080/"
        },
        "id": "rOE2j7sSGDcI",
        "outputId": "2c93ef2d-6c55-4926-b081-e11046bb48e2"
      },
      "execution_count": null,
      "outputs": [
        {
          "output_type": "stream",
          "name": "stdout",
          "text": [
            "John Doe\n"
          ]
        }
      ]
    },
    {
      "cell_type": "markdown",
      "source": [
        "4. Booleans (bool): Represent truth values, either `True` or `False`."
      ],
      "metadata": {
        "id": "jNB5FK4UGU5r"
      }
    },
    {
      "cell_type": "code",
      "source": [
        "is_learning = True\n",
        "is_difficult = False\n",
        "print(is_learning)\n",
        "print(is_difficult)\n",
        "print(type(is_learning))"
      ],
      "metadata": {
        "colab": {
          "base_uri": "https://localhost:8080/"
        },
        "id": "d6JJmw3_GMaZ",
        "outputId": "82dc865e-a8a8-4a96-cbe4-cc59e542240a"
      },
      "execution_count": null,
      "outputs": [
        {
          "output_type": "stream",
          "name": "stdout",
          "text": [
            "True\n",
            "False\n",
            "<class 'bool'>\n"
          ]
        }
      ]
    },
    {
      "cell_type": "markdown",
      "source": [
        "**Basic Operations:**\n",
        "</br>\n",
        "You can perform arithmetic operations on numbers."
      ],
      "metadata": {
        "id": "GrtXXhsGGggU"
      }
    },
    {
      "cell_type": "code",
      "source": [
        "a = 10\n",
        "b = 5\n",
        "print(\"a + b =\", a + b)\n",
        "print(\"a - b =\", a - b)\n",
        "print(\"a * b =\", a * b)\n",
        "print(\"a / b =\", a / b) # Division always results in a float\n",
        "print(\"a // b =\", a // b) # Floor division (discards the fractional part)\n",
        "print(\"a % b =\", a % b)  # Modulus (remainder of the division)\n",
        "print(\"a ** b =\", a ** b) # Exponentiation (a to the power of b)\n"
      ],
      "metadata": {
        "colab": {
          "base_uri": "https://localhost:8080/"
        },
        "id": "xczBnaNaGdGN",
        "outputId": "c4b3639c-094a-46de-d600-15686332fec8"
      },
      "execution_count": null,
      "outputs": [
        {
          "output_type": "stream",
          "name": "stdout",
          "text": [
            "a + b = 15\n",
            "a - b = 5\n",
            "a * b = 50\n",
            "a / b = 2.0\n",
            "a // b = 2\n",
            "a % b = 0\n",
            "a ** b = 100000\n"
          ]
        }
      ]
    },
    {
      "cell_type": "markdown",
      "source": [
        "**Type Conversion (Casting):**</br>\n",
        "You can convert between data types."
      ],
      "metadata": {
        "id": "B3vLlc2AG3kJ"
      }
    },
    {
      "cell_type": "code",
      "source": [
        "num_string = \"123\"\n",
        "num_integer = int(num_string) # Convert string to integer\n",
        "print(num_integer)\n",
        "print(type(num_integer))"
      ],
      "metadata": {
        "colab": {
          "base_uri": "https://localhost:8080/"
        },
        "id": "HJ2jg1u1G0eO",
        "outputId": "934e0e54-3bda-4b54-ee9b-baf2d3e63f18"
      },
      "execution_count": null,
      "outputs": [
        {
          "output_type": "stream",
          "name": "stdout",
          "text": [
            "123\n",
            "<class 'int'>\n"
          ]
        }
      ]
    },
    {
      "cell_type": "code",
      "source": [
        "float_num = float(num_integer) # Convert integer to float\n",
        "print(float_num)\n",
        "print(type(float_num))"
      ],
      "metadata": {
        "colab": {
          "base_uri": "https://localhost:8080/"
        },
        "id": "-PhggoHVHQUh",
        "outputId": "e55500b2-5306-42de-92ea-d27a9c2698ae"
      },
      "execution_count": null,
      "outputs": [
        {
          "output_type": "stream",
          "name": "stdout",
          "text": [
            "123.0\n",
            "<class 'float'>\n"
          ]
        }
      ]
    },
    {
      "cell_type": "markdown",
      "source": [
        "Taking input from the user:\n",
        "</br>\n",
        "The `input()` function allows you to get input from the user.\n",
        "It always returns the input as a string.\n",
        "user_input_name = input(\"Enter your name: \")\n",
        "print(\"Hello, \" + user_input_name + \"!\")\n",
        "\n",
        "age_str = input(\"Enter your age: \")\n",
        "age_int = int(age_str) # Convert the input string to an integer\n",
        "print(\"Next year, you will be\", age_int + 1)\n"
      ],
      "metadata": {
        "id": "-YcvFHyeHXgq"
      }
    },
    {
      "cell_type": "markdown",
      "source": [
        "**Section 4:** Conditional Statements: `if`, `elif`, `else` (Approx. 30 minutes)</br>\n",
        "Conditional statements allow your program to make decisions and execute\n",
        "different blocks of code based on whether certain conditions are true or false.\n",
        "\n",
        "The `if` statement:\n",
        "   - Executes a block of code only if a condition is true.\n",
        "   - The condition is followed by a colon (:), and the code block is indented.\n",
        "   - Indentation is very important in Python! It defines blocks of code.\n",
        "   \n",
        "**Code Example:**"
      ],
      "metadata": {
        "id": "LH3rFGSBHkH9"
      }
    },
    {
      "cell_type": "code",
      "source": [
        "temperature = 25\n",
        "\n",
        "if temperature > 20:\n",
        "    print(\"It's a warm day!\")"
      ],
      "metadata": {
        "colab": {
          "base_uri": "https://localhost:8080/"
        },
        "id": "BH_XaWpyHTRe",
        "outputId": "62f1aed7-3f06-4633-8047-cf958bd35727"
      },
      "execution_count": null,
      "outputs": [
        {
          "output_type": "stream",
          "name": "stdout",
          "text": [
            "It's a warm day!\n"
          ]
        }
      ]
    },
    {
      "cell_type": "markdown",
      "source": [
        "The `else` statement:\n",
        "   - Executes a block of code if the `if` condition is false.\n",
        "\n",
        "**Code Example:**"
      ],
      "metadata": {
        "id": "2IetlO7DH14h"
      }
    },
    {
      "cell_type": "code",
      "source": [
        "age = 16\n",
        "\n",
        "if age >= 18:\n",
        "    print(\"You are eligible to vote.\")\n",
        "else:\n",
        "    print(\"You are not eligible to vote yet.\")"
      ],
      "metadata": {
        "colab": {
          "base_uri": "https://localhost:8080/"
        },
        "id": "bg8SC_w9H1IJ",
        "outputId": "8a92f4a6-9568-4bb6-d434-bfbe58712100"
      },
      "execution_count": null,
      "outputs": [
        {
          "output_type": "stream",
          "name": "stdout",
          "text": [
            "You are not eligible to vote yet.\n"
          ]
        }
      ]
    },
    {
      "cell_type": "markdown",
      "source": [
        "The `elif` statement (short for \"else if\"):\n",
        "   - Allows you to check multiple conditions.\n",
        "   - If the `if` condition is false, it checks the `elif` condition.\n",
        "   - You can have multiple `elif` statements.\n",
        "\n",
        "**Code Example:**"
      ],
      "metadata": {
        "id": "96XYqSf-IC5_"
      }
    },
    {
      "cell_type": "code",
      "source": [
        "score = 85\n",
        "\n",
        "if score >= 90:\n",
        "    print(\"Grade: A\")\n",
        "elif score >= 80:\n",
        "    print(\"Grade: B\")\n",
        "elif score >= 70:\n",
        "    print(\"Grade: C\")\n",
        "elif score >= 60:\n",
        "    print(\"Grade: D\")\n",
        "else:\n",
        "    print(\"Grade: F\")\n"
      ],
      "metadata": {
        "colab": {
          "base_uri": "https://localhost:8080/"
        },
        "id": "NOmQAzUxIARQ",
        "outputId": "9385a462-62de-46e3-d976-7fd7c16a09fc"
      },
      "execution_count": null,
      "outputs": [
        {
          "output_type": "stream",
          "name": "stdout",
          "text": [
            "Grade: B\n"
          ]
        }
      ]
    },
    {
      "cell_type": "markdown",
      "source": [
        "**Comparison Operators:**\n",
        "   `==` : Equal to\n",
        "   `!=` : Not equal to\n",
        "   `>`  : Greater than\n",
        "   `<`  : Less than\n",
        "   `>=` : Greater than or equal to\n",
        "   `<=` : Less than or equal to\n",
        "\n",
        "**Logical Operators:**\n",
        "   `and`: True if both conditions are true.\n",
        "   `or` : True if at least one condition is true.\n",
        "   `not`: Reverses the truth value of a condition.\n",
        "\n",
        " **Code Example with logical operators:**"
      ],
      "metadata": {
        "id": "QmGg8cINIP8b"
      }
    },
    {
      "cell_type": "code",
      "source": [
        "is_sunny = True\n",
        "is_weekend = False\n",
        "\n",
        "if is_sunny and is_weekend:\n",
        "    print(\"Let's go to the beach!\")\n",
        "elif is_sunny and not is_weekend:\n",
        "    print(\"It's sunny, but it's a weekday.\")\n",
        "elif not is_sunny and is_weekend:\n",
        "    print(\"It's the weekend, but not sunny.\")\n",
        "else:\n",
        "    print(\"Let's stay indoors.\")"
      ],
      "metadata": {
        "colab": {
          "base_uri": "https://localhost:8080/"
        },
        "id": "YauroZyFIMOD",
        "outputId": "030b2ef1-439d-492e-862e-b77cb7ad1ef7"
      },
      "execution_count": null,
      "outputs": [
        {
          "output_type": "stream",
          "name": "stdout",
          "text": [
            "It's sunny, but it's a weekday.\n"
          ]
        }
      ]
    },
    {
      "cell_type": "markdown",
      "source": [
        "Nested `if` statements:</br>\n",
        " You can put `if` statements inside other `if` statements.\n",
        "\n",
        "**Code Example:**"
      ],
      "metadata": {
        "id": "EgZoQgHQIq1V"
      }
    },
    {
      "cell_type": "code",
      "source": [
        "num = 10\n",
        "if num > 0:\n",
        "    print(\"Number is positive.\")\n",
        "    if num % 2 == 0:\n",
        "        print(\"And it's an even number.\")\n",
        "    else:\n",
        "        print(\"And it's an odd number.\")\n",
        "elif num == 0:\n",
        "    print(\"Number is zero.\")\n",
        "else:\n",
        "    print(\"Number is negative.\")"
      ],
      "metadata": {
        "colab": {
          "base_uri": "https://localhost:8080/"
        },
        "id": "GFUlMTkNIoGa",
        "outputId": "24f1ac76-da45-4f83-c416-a2bc1c8e5bec"
      },
      "execution_count": null,
      "outputs": [
        {
          "output_type": "stream",
          "name": "stdout",
          "text": [
            "Number is positive.\n",
            "And it's an even number.\n"
          ]
        }
      ]
    },
    {
      "cell_type": "markdown",
      "source": [
        "**Section 5:** Loops: `for` and `while` (Approx. 35 minutes)\n",
        "\n",
        " Loops are used to execute a block of code repeatedly.\n",
        "\n",
        " The `for` loop:\n",
        "   - Used for iterating over a sequence (like a list, tuple, string, or range).\n",
        "\n",
        " Iterating over a string:"
      ],
      "metadata": {
        "id": "0vPUUSLdVQgk"
      }
    },
    {
      "cell_type": "code",
      "source": [
        "my_name = \"PYTHON\"\n",
        "for char_in_name in my_name:\n",
        "    print(char_in_name)"
      ],
      "metadata": {
        "id": "ixI8LPe-Nl9b",
        "colab": {
          "base_uri": "https://localhost:8080/"
        },
        "outputId": "370042d2-4667-4bcb-d133-3132ee626a1d"
      },
      "execution_count": null,
      "outputs": [
        {
          "output_type": "stream",
          "name": "stdout",
          "text": [
            "P\n",
            "Y\n",
            "T\n",
            "H\n",
            "O\n",
            "N\n"
          ]
        }
      ]
    },
    {
      "cell_type": "markdown",
      "source": [
        "**The `range()` function:**\n",
        "   - Often used with `for` loops to execute a block of code a specific number of times.\n",
        "   - `range(n)`: generates numbers from 0 up to (but not including) n.\n",
        "   - `range(start, stop)`: generates numbers from start up to (but not including) stop.\n",
        "   - `range(start, stop, step)`: generates numbers from start up to stop, with a specific step.\n",
        "\n",
        "**Code Example with `range()`:**"
      ],
      "metadata": {
        "id": "LhWSad4yVdEY"
      }
    },
    {
      "cell_type": "code",
      "source": [
        "print(\"Numbers from 0 to 4:\")\n",
        "for i in range(5):  # 0, 1, 2, 3, 4\n",
        "    print(i)\n",
        "\n",
        "print(\"\\nNumbers from 2 to 6:\")\n",
        "for i in range(2, 7): # 2, 3, 4, 5, 6\n",
        "    print(i)\n",
        "\n",
        "print(\"\\nEven numbers from 0 to 10:\")\n",
        "for i in range(0, 11, 2): # 0, 2, 4, 6, 8, 10\n",
        "    print(i)"
      ],
      "metadata": {
        "id": "g43AiCynUYt1",
        "colab": {
          "base_uri": "https://localhost:8080/"
        },
        "outputId": "106af9a0-3afd-4615-c91e-4837fe71faba"
      },
      "execution_count": null,
      "outputs": [
        {
          "output_type": "stream",
          "name": "stdout",
          "text": [
            "Numbers from 0 to 4:\n",
            "0\n",
            "1\n",
            "2\n",
            "3\n",
            "4\n",
            "\n",
            "Numbers from 2 to 6:\n",
            "2\n",
            "3\n",
            "4\n",
            "5\n",
            "6\n",
            "\n",
            "Even numbers from 0 to 10:\n",
            "0\n",
            "2\n",
            "4\n",
            "6\n",
            "8\n",
            "10\n"
          ]
        }
      ]
    },
    {
      "cell_type": "markdown",
      "source": [
        "**The `while` loop:**\n",
        "   - Executes a block of code as long as a condition is true.\n",
        "   - Make sure the condition eventually becomes false, or you'll have an infinite loop!\n",
        "\n",
        "**Code Example:**"
      ],
      "metadata": {
        "id": "RD35YceGVyqJ"
      }
    },
    {
      "cell_type": "code",
      "source": [
        "count = 0\n",
        "while count < 5:\n",
        "    print(\"Count is:\", count)\n",
        "    count = count + 1  # Increment count, eventually making the condition false\n",
        "    # Shorthand: count += 1\n",
        "\n",
        "print(\"Loop finished.\")"
      ],
      "metadata": {
        "colab": {
          "base_uri": "https://localhost:8080/"
        },
        "id": "n6JSjL7nVxyt",
        "outputId": "6fd0bd05-6300-4cff-9c19-ecae2d5b579c"
      },
      "execution_count": null,
      "outputs": [
        {
          "output_type": "stream",
          "name": "stdout",
          "text": [
            "Count is: 0\n",
            "Count is: 1\n",
            "Count is: 2\n",
            "Count is: 3\n",
            "Count is: 4\n",
            "Loop finished.\n"
          ]
        }
      ]
    },
    {
      "cell_type": "markdown",
      "source": [
        "**`break` statement:**\n",
        "   - Used to exit a loop prematurely, even if the loop's condition is still true.\n",
        "\n",
        "**Code Example:**</br>\n",
        "Find the first number divisible by 7 in a range"
      ],
      "metadata": {
        "id": "4p1h87ThV9XV"
      }
    },
    {
      "cell_type": "code",
      "source": [
        "for number in range(1, 20):\n",
        "    if number % 7 == 0:\n",
        "        print(f\"Found a number divisible by 7: {number}\") # f-strings are a nice way to format strings\n",
        "        break # Exit the loop\n",
        "    print(f\"Checking {number}...\")\n"
      ],
      "metadata": {
        "colab": {
          "base_uri": "https://localhost:8080/"
        },
        "id": "qCd56yBxV7In",
        "outputId": "fdd98413-ded6-4e2c-af59-49c1dee10d64"
      },
      "execution_count": null,
      "outputs": [
        {
          "output_type": "stream",
          "name": "stdout",
          "text": [
            "Checking 1...\n",
            "Checking 2...\n",
            "Checking 3...\n",
            "Checking 4...\n",
            "Checking 5...\n",
            "Checking 6...\n",
            "Found a number divisible by 7: 7\n"
          ]
        }
      ]
    },
    {
      "cell_type": "markdown",
      "source": [
        "**`continue` statement:**\n",
        "   - Skips the current iteration of the loop and moves to the next one.\n",
        "\n",
        " **Code Example:** Print only odd numbers"
      ],
      "metadata": {
        "id": "SVpGhbRSWNkL"
      }
    },
    {
      "cell_type": "code",
      "source": [
        "for number in range(1, 10):\n",
        "    if number % 2 == 0: # If number is even\n",
        "        continue        # Skip the rest of this iteration\n",
        "    print(number)       # This line is only reached for odd numbers\n"
      ],
      "metadata": {
        "colab": {
          "base_uri": "https://localhost:8080/"
        },
        "id": "H2pOvT0qWWp9",
        "outputId": "1845365c-bc36-4d4b-d3a5-a9e033c2f960"
      },
      "execution_count": null,
      "outputs": [
        {
          "output_type": "stream",
          "name": "stdout",
          "text": [
            "1\n",
            "3\n",
            "5\n",
            "7\n",
            "9\n"
          ]
        }
      ]
    },
    {
      "cell_type": "markdown",
      "source": [
        "**`else` clause in loops (less common but good to know):**\n",
        "   - The `else` block is executed if the loop completes normally (i.e., not exited by a `break`).\n",
        "\n",
        "**Code Example with `for...else`:**"
      ],
      "metadata": {
        "id": "XLlQ7dMUWY_u"
      }
    },
    {
      "cell_type": "code",
      "source": [
        "for i in range(3):\n",
        "    print(f\"Loop iteration {i}\")\n",
        "    # if i == 1: break # Uncomment this to see the else block skipped\n",
        "else:\n",
        "    print(\"Loop completed without a break.\")\n"
      ],
      "metadata": {
        "colab": {
          "base_uri": "https://localhost:8080/"
        },
        "id": "BoTXsNrzWXE3",
        "outputId": "ecc5fb8e-b43d-41b1-e900-458a050dc0ad"
      },
      "execution_count": null,
      "outputs": [
        {
          "output_type": "stream",
          "name": "stdout",
          "text": [
            "Loop iteration 0\n",
            "Loop iteration 1\n",
            "Loop iteration 2\n",
            "Loop completed without a break.\n"
          ]
        }
      ]
    },
    {
      "cell_type": "markdown",
      "source": [
        "**Code Example with `while...else`:**"
      ],
      "metadata": {
        "id": "QCjhrrxUWpO4"
      }
    },
    {
      "cell_type": "code",
      "source": [
        "num = 5\n",
        "while num > 0:\n",
        "    print(num)\n",
        "    num -= 1\n",
        "    # if num == 2: break # Uncomment this\n",
        "else:\n",
        "    print(\"While loop completed without a break.\")\n"
      ],
      "metadata": {
        "colab": {
          "base_uri": "https://localhost:8080/"
        },
        "id": "K0-85CKXWnYz",
        "outputId": "2bfb3ab3-373b-4ad1-e32d-85730167eec0"
      },
      "execution_count": null,
      "outputs": [
        {
          "output_type": "stream",
          "name": "stdout",
          "text": [
            "5\n",
            "4\n",
            "3\n",
            "2\n",
            "1\n",
            "While loop completed without a break.\n"
          ]
        }
      ]
    },
    {
      "cell_type": "markdown",
      "source": [
        "**Section 6:** Data Structures (Introduction) (Approx. 35 minutes)\n",
        "\n",
        " Data structures are ways to organize and store collections of data.\n",
        " Python has several built-in data structures.\n",
        "\n",
        " 1. Lists:\n",
        "   - Ordered, mutable (changeable) collections of items.\n",
        "   - Items can be of different data types.\n",
        "   - Defined using square brackets `[]`.\n",
        "\n",
        "**Code Example:**"
      ],
      "metadata": {
        "id": "IRX82IpMWw3r"
      }
    },
    {
      "cell_type": "code",
      "source": [
        "fruits = [\"apple\", \"banana\", \"cherry\", \"orange\"]\n",
        "print(fruits)"
      ],
      "metadata": {
        "colab": {
          "base_uri": "https://localhost:8080/"
        },
        "id": "nniUsLRIWvCN",
        "outputId": "4887ff8e-8096-45bc-ec90-2098ca92de34"
      },
      "execution_count": null,
      "outputs": [
        {
          "output_type": "stream",
          "name": "stdout",
          "text": [
            "['apple', 'banana', 'cherry', 'orange']\n"
          ]
        }
      ]
    },
    {
      "cell_type": "code",
      "source": [
        "# Accessing elements (indexing starts from 0):\n",
        "print(\"First fruit:\", fruits[0])  # apple\n",
        "print(\"Third fruit:\", fruits[2])  # cherry"
      ],
      "metadata": {
        "colab": {
          "base_uri": "https://localhost:8080/"
        },
        "id": "ki9giA2jXE7d",
        "outputId": "867c1e8b-12f0-46fe-a744-86c4ddd170bf"
      },
      "execution_count": null,
      "outputs": [
        {
          "output_type": "stream",
          "name": "stdout",
          "text": [
            "First fruit: apple\n",
            "Third fruit: cherry\n"
          ]
        }
      ]
    },
    {
      "cell_type": "code",
      "source": [
        "# Negative indexing (starts from -1 for the last item):\n",
        "print(\"Last fruit:\", fruits[-1]) # orange"
      ],
      "metadata": {
        "colab": {
          "base_uri": "https://localhost:8080/"
        },
        "id": "-vLSC8PDXJcW",
        "outputId": "182af8ce-8947-476e-be05-2cff53ce3392"
      },
      "execution_count": null,
      "outputs": [
        {
          "output_type": "stream",
          "name": "stdout",
          "text": [
            "Last fruit: orange\n"
          ]
        }
      ]
    },
    {
      "cell_type": "code",
      "source": [
        "# Slicing (getting a sub-list):\n",
        "# `my_list[start:end]` (end index is exclusive)\n",
        "print(\"First two fruits:\", fruits[0:2]) # or simply fruits[:2]\n",
        "print(\"Fruits from index 1 to 3:\", fruits[1:4])\n",
        "print(\"All fruits from index 2 onwards:\", fruits[2:])"
      ],
      "metadata": {
        "colab": {
          "base_uri": "https://localhost:8080/"
        },
        "id": "nTgyqyygXPgg",
        "outputId": "4b3176f8-0622-4597-c17f-c71ba875f6c2"
      },
      "execution_count": null,
      "outputs": [
        {
          "output_type": "stream",
          "name": "stdout",
          "text": [
            "First two fruits: ['apple', 'banana']\n",
            "Fruits from index 1 to 3: ['banana', 'cherry', 'orange']\n",
            "All fruits from index 2 onwards: ['cherry', 'orange']\n"
          ]
        }
      ]
    },
    {
      "cell_type": "code",
      "source": [
        "# Modifying lists:\n",
        "fruits[1] = \"blueberry\" # Change an item\n",
        "print(\"Modified list:\", fruits)"
      ],
      "metadata": {
        "colab": {
          "base_uri": "https://localhost:8080/"
        },
        "id": "p3qcsNXxXP7F",
        "outputId": "078fd953-6869-4570-cbc1-6c49d132b4b5"
      },
      "execution_count": null,
      "outputs": [
        {
          "output_type": "stream",
          "name": "stdout",
          "text": [
            "Modified list: ['apple', 'blueberry', 'cherry', 'orange']\n"
          ]
        }
      ]
    },
    {
      "cell_type": "code",
      "source": [
        "# List methods (common operations):\n",
        "fruits.append(\"grape\")    # Add an item to the end\n",
        "print(\"Appended list:\", fruits)"
      ],
      "metadata": {
        "colab": {
          "base_uri": "https://localhost:8080/"
        },
        "id": "dMlUnVQiXSOK",
        "outputId": "07cbc10a-aa62-4b60-c0ad-c17ed43b3060"
      },
      "execution_count": null,
      "outputs": [
        {
          "output_type": "stream",
          "name": "stdout",
          "text": [
            "Appended list: ['apple', 'blueberry', 'cherry', 'orange', 'grape']\n"
          ]
        }
      ]
    },
    {
      "cell_type": "code",
      "source": [
        "fruits.insert(1, \"mango\") # Insert an item at a specific position\n",
        "print(\"Inserted list:\", fruits)\n"
      ],
      "metadata": {
        "colab": {
          "base_uri": "https://localhost:8080/"
        },
        "id": "ZZWasDMRXUty",
        "outputId": "5d2ff890-508d-46c3-e68f-b7e2e1212e89"
      },
      "execution_count": null,
      "outputs": [
        {
          "output_type": "stream",
          "name": "stdout",
          "text": [
            "Inserted list: ['apple', 'mango', 'blueberry', 'cherry', 'orange', 'grape']\n"
          ]
        }
      ]
    },
    {
      "cell_type": "code",
      "source": [
        "fruits.remove(\"cherry\")   # Remove the first occurrence of an item\n",
        "print(\"Removed 'cherry':\", fruits)"
      ],
      "metadata": {
        "colab": {
          "base_uri": "https://localhost:8080/"
        },
        "id": "QmY9dmD9XW3t",
        "outputId": "e2713a4d-0284-43df-92bd-4013e9fba500"
      },
      "execution_count": null,
      "outputs": [
        {
          "output_type": "stream",
          "name": "stdout",
          "text": [
            "Removed 'cherry': ['apple', 'mango', 'blueberry', 'orange', 'grape']\n"
          ]
        }
      ]
    },
    {
      "cell_type": "code",
      "source": [
        "popped_fruit = fruits.pop() # Remove and return the last item\n",
        "print(\"Popped fruit:\", popped_fruit)\n",
        "print(\"List after pop:\", fruits)\n",
        "\n",
        "print(\"Length of the list:\", len(fruits)) # Get the number of items\n"
      ],
      "metadata": {
        "colab": {
          "base_uri": "https://localhost:8080/"
        },
        "id": "BHAnB167XYmE",
        "outputId": "9b411b44-dc39-4ed5-a7c1-eabdb34275d7"
      },
      "execution_count": null,
      "outputs": [
        {
          "output_type": "stream",
          "name": "stdout",
          "text": [
            "Popped fruit: grape\n",
            "List after pop: ['apple', 'mango', 'blueberry', 'orange']\n",
            "Length of the list: 4\n"
          ]
        }
      ]
    },
    {
      "cell_type": "markdown",
      "source": [
        "2. Tuples:\n",
        "   - Ordered, immutable (unchangeable) collections of items.\n",
        "   - Once a tuple is created, you cannot add, remove, or change items.\n",
        "   - Defined using parentheses `()`.\n",
        "\n",
        "**Code Example:**"
      ],
      "metadata": {
        "id": "3NHJSP7kXfjC"
      }
    },
    {
      "cell_type": "code",
      "source": [
        "point = (10, 20) # e.g., coordinates\n",
        "colors_rgb = (\"red\", \"green\", \"blue\")\n",
        "print(point)\n",
        "print(colors_rgb)"
      ],
      "metadata": {
        "colab": {
          "base_uri": "https://localhost:8080/"
        },
        "id": "-ysKXjDHXcqA",
        "outputId": "74fc25ef-4e3e-4d14-c216-15dda8597912"
      },
      "execution_count": null,
      "outputs": [
        {
          "output_type": "stream",
          "name": "stdout",
          "text": [
            "(10, 20)\n",
            "('red', 'green', 'blue')\n"
          ]
        }
      ]
    },
    {
      "cell_type": "code",
      "source": [
        "# Accessing elements (same as lists):\n",
        "print(\"X-coordinate:\", point[0])"
      ],
      "metadata": {
        "colab": {
          "base_uri": "https://localhost:8080/"
        },
        "id": "16g-te52Xprx",
        "outputId": "a52cdf06-9979-4f86-c6ee-5dd932de9081"
      },
      "execution_count": null,
      "outputs": [
        {
          "output_type": "stream",
          "name": "stdout",
          "text": [
            "X-coordinate: 10\n"
          ]
        }
      ]
    },
    {
      "cell_type": "markdown",
      "source": [
        "Tuples are **immutable** - this would cause an error:\n",
        "point[0] = 15 # TypeError: 'tuple' object does not support item assignment\n",
        "\n",
        "Why use tuples?\n",
        "   - For data that shouldn't change (e.g., days of the week, coordinates).\n",
        "   - Can be used as keys in dictionaries (lists cannot).\n",
        "   - Sometimes slightly more memory efficient than lists for fixed collections.\n",
        "   \n",
        "3. Dictionaries (dict):\n",
        "   - Unordered (in Python versions before 3.7, ordered from 3.7+) collections of key-value pairs.\n",
        "   - Mutable.\n",
        "   - Keys must be unique and immutable (e.g., strings, numbers, tuples).\n",
        "   - Values can be of any data type and can be duplicated.\n",
        "   - Defined using curly braces `{}` with `key: value` pairs.\n",
        "\n",
        "**Code Example:**"
      ],
      "metadata": {
        "id": "hbLwOBpsXxhj"
      }
    },
    {
      "cell_type": "code",
      "source": [
        "student = {\n",
        "    \"name\": \"Bob\",\n",
        "    \"age\": 22,\n",
        "    \"major\": \"Computer Science\",\n",
        "    \"courses\": [\"Math\", \"Physics\", \"Programming\"]\n",
        "}\n",
        "print(student)"
      ],
      "metadata": {
        "colab": {
          "base_uri": "https://localhost:8080/"
        },
        "id": "8J_kh0ClXsG-",
        "outputId": "e0e13092-390b-4afc-8786-39af1cce9255"
      },
      "execution_count": null,
      "outputs": [
        {
          "output_type": "stream",
          "name": "stdout",
          "text": [
            "{'name': 'Bob', 'age': 22, 'major': 'Computer Science', 'courses': ['Math', 'Physics', 'Programming']}\n"
          ]
        }
      ]
    },
    {
      "cell_type": "code",
      "source": [
        "# Accessing values using keys:\n",
        "print(\"Student's name:\", student[\"name\"])\n",
        "print(\"Student's courses:\", student[\"courses\"])"
      ],
      "metadata": {
        "colab": {
          "base_uri": "https://localhost:8080/"
        },
        "id": "0JydqPUoYCz1",
        "outputId": "ae00edd5-a9d7-4e0b-a033-2ffcf44b54eb"
      },
      "execution_count": null,
      "outputs": [
        {
          "output_type": "stream",
          "name": "stdout",
          "text": [
            "Student's name: Bob\n",
            "Student's courses: ['Math', 'Physics', 'Programming']\n"
          ]
        }
      ]
    },
    {
      "cell_type": "code",
      "source": [
        "# Using the .get() method (safer if key might not exist):\n",
        "print(\"Student's GPA:\", student.get(\"gpa\")) # Returns None if key \"gpa\" doesn't exist\n",
        "print(\"Student's GPA with default:\", student.get(\"gpa\", \"Not available\"))\n"
      ],
      "metadata": {
        "colab": {
          "base_uri": "https://localhost:8080/"
        },
        "id": "7UYs-xX2YDM5",
        "outputId": "c053d724-765f-4ef4-f1ed-e22734993718"
      },
      "execution_count": null,
      "outputs": [
        {
          "output_type": "stream",
          "name": "stdout",
          "text": [
            "Student's GPA: None\n",
            "Student's GPA with default: Not available\n"
          ]
        }
      ]
    },
    {
      "cell_type": "code",
      "source": [
        "# Modifying dictionaries:\n",
        "student[\"age\"] = 23 # Update a value\n",
        "student[\"email\"] = \"bob@example.com\" # Add a new key-value pair\n",
        "print(\"Updated student:\", student)\n"
      ],
      "metadata": {
        "colab": {
          "base_uri": "https://localhost:8080/"
        },
        "id": "7scV0mSEYGus",
        "outputId": "f60704d4-ae80-4356-ee7a-e143720d48c8"
      },
      "execution_count": null,
      "outputs": [
        {
          "output_type": "stream",
          "name": "stdout",
          "text": [
            "Updated student: {'name': 'Bob', 'age': 23, 'major': 'Computer Science', 'courses': ['Math', 'Physics', 'Programming'], 'email': 'bob@example.com'}\n"
          ]
        }
      ]
    },
    {
      "cell_type": "code",
      "source": [
        "# Removing items:\n",
        "removed_value = student.pop(\"major\")\n",
        "print(\"Removed major:\", removed_value)\n",
        "print(\"Student after pop:\", student)\n"
      ],
      "metadata": {
        "colab": {
          "base_uri": "https://localhost:8080/"
        },
        "id": "lst6SPUNYHF8",
        "outputId": "468acd8c-aaa4-4796-da05-3f12e4d01089"
      },
      "execution_count": null,
      "outputs": [
        {
          "output_type": "stream",
          "name": "stdout",
          "text": [
            "Removed major: Computer Science\n",
            "Student after pop: {'name': 'Bob', 'age': 23, 'courses': ['Math', 'Physics', 'Programming'], 'email': 'bob@example.com'}\n"
          ]
        }
      ]
    },
    {
      "cell_type": "code",
      "source": [
        "# Getting all keys, values, or items:\n",
        "print(\"Keys:\", student.keys())\n",
        "print(\"Values:\", student.values())\n",
        "print(\"Items (key-value pairs):\", student.items())"
      ],
      "metadata": {
        "colab": {
          "base_uri": "https://localhost:8080/"
        },
        "id": "ZncwTwuJYLBT",
        "outputId": "f33b885e-fdaf-4979-f3b3-4fec6b4dd7f5"
      },
      "execution_count": null,
      "outputs": [
        {
          "output_type": "stream",
          "name": "stdout",
          "text": [
            "Keys: dict_keys(['name', 'age', 'courses', 'email'])\n",
            "Values: dict_values(['Bob', 23, ['Math', 'Physics', 'Programming'], 'bob@example.com'])\n",
            "Items (key-value pairs): dict_items([('name', 'Bob'), ('age', 23), ('courses', ['Math', 'Physics', 'Programming']), ('email', 'bob@example.com')])\n"
          ]
        }
      ]
    },
    {
      "cell_type": "code",
      "source": [
        "# Iterating over a dictionary:\n",
        "print(\"\\nStudent details:\")\n",
        "for key, value in student.items():\n",
        "    print(f\"{key}: {value}\")"
      ],
      "metadata": {
        "colab": {
          "base_uri": "https://localhost:8080/"
        },
        "id": "6LwI_SqxYNzr",
        "outputId": "763e7b10-8132-4d53-96eb-166c84071cae"
      },
      "execution_count": null,
      "outputs": [
        {
          "output_type": "stream",
          "name": "stdout",
          "text": [
            "\n",
            "Student details:\n",
            "name: Bob\n",
            "age: 23\n",
            "courses: ['Math', 'Physics', 'Programming']\n",
            "email: bob@example.com\n"
          ]
        }
      ]
    },
    {
      "cell_type": "markdown",
      "source": [
        "4. Sets:\n",
        "   - Unordered collections of unique items.\n",
        "   - Mutable.\n",
        "   - No duplicate elements allowed.\n",
        "   - Defined using curly braces `{}` or the `set()` function.\n",
        "   - Note: `{}` creates an empty dictionary, use `set()` for an empty set.\n",
        "\n",
        "**Code Example:**"
      ],
      "metadata": {
        "id": "r5gD6X4HYSkX"
      }
    },
    {
      "cell_type": "code",
      "source": [
        "numbers_set = {1, 2, 3, 4, 4, 5} # Duplicates are automatically removed\n",
        "print(numbers_set) # Output: {1, 2, 3, 4, 5} (order may vary)"
      ],
      "metadata": {
        "colab": {
          "base_uri": "https://localhost:8080/"
        },
        "id": "0uU-8sleYP-L",
        "outputId": "6a3523d0-1da5-4eb8-d30e-2a30bed95789"
      },
      "execution_count": null,
      "outputs": [
        {
          "output_type": "stream",
          "name": "stdout",
          "text": [
            "{1, 2, 3, 4, 5}\n"
          ]
        }
      ]
    },
    {
      "cell_type": "code",
      "source": [
        "empty_set = set()\n",
        "print(empty_set)"
      ],
      "metadata": {
        "colab": {
          "base_uri": "https://localhost:8080/"
        },
        "id": "tV2bDqITYe0n",
        "outputId": "0cf20858-a122-4e7d-afa2-8bf17b535372"
      },
      "execution_count": null,
      "outputs": [
        {
          "output_type": "stream",
          "name": "stdout",
          "text": [
            "set()\n"
          ]
        }
      ]
    },
    {
      "cell_type": "code",
      "source": [
        "# Set operations:\n",
        "set_a = {1, 2, 3, 4}\n",
        "set_b = {3, 4, 5, 6}"
      ],
      "metadata": {
        "id": "GxT04aN5YgeL"
      },
      "execution_count": null,
      "outputs": []
    },
    {
      "cell_type": "code",
      "source": [
        "print(\"Union (all unique elements from both):\", set_a.union(set_b)) # or set_a | set_b\n",
        "print(\"Intersection (elements common to both):\", set_a.intersection(set_b)) # or set_a & set_b\n",
        "print(\"Difference (elements in A but not in B):\", set_a.difference(set_b)) # or set_a - set_b\n",
        "print(\"Symmetric Difference (elements in A or B but not both):\", set_a.symmetric_difference(set_b)) # or set_a ^ set_b"
      ],
      "metadata": {
        "colab": {
          "base_uri": "https://localhost:8080/"
        },
        "id": "uc1LcPa2Yh2t",
        "outputId": "7e106a90-4887-4ae2-b8ab-1fe0b8f9fe4f"
      },
      "execution_count": null,
      "outputs": [
        {
          "output_type": "stream",
          "name": "stdout",
          "text": [
            "Union (all unique elements from both): {1, 2, 3, 4, 5, 6}\n",
            "Intersection (elements common to both): {3, 4}\n",
            "Difference (elements in A but not in B): {1, 2}\n",
            "Symmetric Difference (elements in A or B but not both): {1, 2, 5, 6}\n"
          ]
        }
      ]
    },
    {
      "cell_type": "code",
      "source": [
        "# Adding and removing elements:\n",
        "numbers_set.add(6)\n",
        "print(\"Added 6:\", numbers_set)\n",
        "numbers_set.remove(2) # Raises KeyError if element not found\n",
        "print(\"Removed 2:\", numbers_set)\n",
        "numbers_set.discard(10) # Removes element if present, no error if not\n",
        "print(\"Discarded 10 (no error):\", numbers_set)"
      ],
      "metadata": {
        "colab": {
          "base_uri": "https://localhost:8080/"
        },
        "id": "Ope35osQYl28",
        "outputId": "c58a388f-5137-4eaa-d845-794217548612"
      },
      "execution_count": null,
      "outputs": [
        {
          "output_type": "stream",
          "name": "stdout",
          "text": [
            "Added 6: {1, 2, 3, 4, 5, 6}\n",
            "Removed 2: {1, 3, 4, 5, 6}\n",
            "Discarded 10 (no error): {1, 3, 4, 5, 6}\n"
          ]
        }
      ]
    },
    {
      "cell_type": "code",
      "source": [
        "# Checking membership:\n",
        "print(3 in numbers_set) # True"
      ],
      "metadata": {
        "colab": {
          "base_uri": "https://localhost:8080/"
        },
        "id": "vInQ30l4YoJj",
        "outputId": "b867f679-f922-41bf-9f46-ba42a4abe9e3"
      },
      "execution_count": null,
      "outputs": [
        {
          "output_type": "stream",
          "name": "stdout",
          "text": [
            "True\n"
          ]
        }
      ]
    },
    {
      "cell_type": "markdown",
      "source": [
        "**Section 7:** Functions (Approx. 35 minutes)\n",
        "\n",
        "\n",
        " Functions are reusable blocks of code that perform a specific task.\n",
        " They help organize your code, make it more readable, and reduce repetition.\n",
        "\n",
        " Defining a function:\n",
        "   - Use the `def` keyword, followed by the function name, parentheses `()`, and a colon `:`.\n",
        "   - The code block within the function is indented.\n",
        "\n",
        "**Code Example (simple function):**"
      ],
      "metadata": {
        "id": "FRubnATxYr_P"
      }
    },
    {
      "cell_type": "code",
      "source": [
        "def greet():\n",
        "    print(\"Hello from a function!\")\n",
        "\n",
        "# Calling a function:\n",
        "#   - To execute the code inside a function, you \"call\" it by its name followed by parentheses.\n",
        "greet()\n",
        "greet() # You can call it multiple times"
      ],
      "metadata": {
        "colab": {
          "base_uri": "https://localhost:8080/"
        },
        "id": "ofm82lTfYpua",
        "outputId": "e4b4d5ce-356c-42ca-e212-dcb3f5b1a3e8"
      },
      "execution_count": null,
      "outputs": [
        {
          "output_type": "stream",
          "name": "stdout",
          "text": [
            "Hello from a function!\n",
            "Hello from a function!\n"
          ]
        }
      ]
    },
    {
      "cell_type": "markdown",
      "source": [
        "**Functions with parameters (inputs):**\n",
        "   - Parameters are variables listed inside the parentheses in the function definition.\n",
        "   - Arguments are the actual values you pass to the function when you call it.\n",
        "\n",
        "**Code Example:**"
      ],
      "metadata": {
        "id": "J3lJOOoAY6tG"
      }
    },
    {
      "cell_type": "code",
      "source": [
        "def greet_person(name): # 'name' is a parameter\n",
        "    print(f\"Hello, {name}!\")\n",
        "\n",
        "greet_person(\"Alice\") # \"Alice\" is an argument\n",
        "greet_person(\"Bob\")\n",
        "\n",
        "def add_numbers(x, y): # x and y are parameters\n",
        "    sum_result = x + y\n",
        "    print(f\"The sum of {x} and {y} is {sum_result}\")\n",
        "\n",
        "add_numbers(5, 3)\n",
        "add_numbers(100, 200)"
      ],
      "metadata": {
        "colab": {
          "base_uri": "https://localhost:8080/"
        },
        "id": "L0gYq204Y4kz",
        "outputId": "dd0f100b-aa17-48af-ff26-b1dc12b842be"
      },
      "execution_count": null,
      "outputs": [
        {
          "output_type": "stream",
          "name": "stdout",
          "text": [
            "Hello, Alice!\n",
            "Hello, Bob!\n",
            "The sum of 5 and 3 is 8\n",
            "The sum of 100 and 200 is 300\n"
          ]
        }
      ]
    },
    {
      "cell_type": "markdown",
      "source": [
        "**The `return` statement:**\n",
        "   - Functions can optionally return a value to the caller using the `return` statement.\n",
        "   - If a function doesn't have a `return` statement, it implicitly returns `None`.\n",
        "\n",
        "**Code Example:**"
      ],
      "metadata": {
        "id": "dpD0XoIWZNKS"
      }
    },
    {
      "cell_type": "code",
      "source": [
        "def multiply_numbers(x, y):\n",
        "    product = x * y\n",
        "    return product # Returns the calculated product\n",
        "\n",
        "result = multiply_numbers(4, 7)\n",
        "print(\"Result of multiplication:\", result)\n",
        "print(\"Another result:\", multiply_numbers(10, 5))\n",
        "\n",
        "def get_greeting(name):\n",
        "    return f\"Greetings, {name}!\"\n",
        "\n",
        "message_from_function = get_greeting(\"Dr. Smith\")\n",
        "print(message_from_function)"
      ],
      "metadata": {
        "colab": {
          "base_uri": "https://localhost:8080/"
        },
        "id": "Z1H1UVldZIWp",
        "outputId": "663f1fde-8715-4484-87cc-69eeea3e97ed"
      },
      "execution_count": null,
      "outputs": [
        {
          "output_type": "stream",
          "name": "stdout",
          "text": [
            "Result of multiplication: 28\n",
            "Another result: 50\n",
            "Greetings, Dr. Smith!\n"
          ]
        }
      ]
    },
    {
      "cell_type": "markdown",
      "source": [
        "**Default parameter values:**\n",
        "   - You can provide default values for parameters.\n",
        "   - If an argument for that parameter is not provided during the call, the default value is used.\n",
        "\n",
        "**Code Example:**"
      ],
      "metadata": {
        "id": "xQ61tB0LZW1h"
      }
    },
    {
      "cell_type": "code",
      "source": [
        "def power(base, exponent=2): # exponent has a default value of 2\n",
        "    return base ** exponent\n",
        "\n",
        "print(\"3 to the power of 2 (default exponent):\", power(3))\n",
        "print(\"3 to the power of 3 (explicit exponent):\", power(3, 3))"
      ],
      "metadata": {
        "colab": {
          "base_uri": "https://localhost:8080/"
        },
        "id": "dbq5MQ78ZU8V",
        "outputId": "4773bf09-5269-447e-e779-e60f37b62537"
      },
      "execution_count": null,
      "outputs": [
        {
          "output_type": "stream",
          "name": "stdout",
          "text": [
            "3 to the power of 2 (default exponent): 9\n",
            "3 to the power of 3 (explicit exponent): 27\n"
          ]
        }
      ]
    },
    {
      "cell_type": "markdown",
      "source": [
        "**Docstrings (Documentation Strings):**\n",
        "   - It's good practice to add a string literal as the first statement in a function's body\n",
        "     to describe what the function does. This is called a docstring.\n",
        "   - Enclosed in triple quotes `\"\"\"Docstring goes here\"\"\"`."
      ],
      "metadata": {
        "id": "fLPd3oAvZgKR"
      }
    },
    {
      "cell_type": "code",
      "source": [
        "def calculate_area_rectangle(length, width):\n",
        "    \"\"\"\n",
        "    Calculates the area of a rectangle.\n",
        "\n",
        "    Args:\n",
        "        length (float or int): The length of the rectangle.\n",
        "        width (float or int): The width of the rectangle.\n",
        "\n",
        "    Returns:\n",
        "        float or int: The calculated area of the rectangle.\n",
        "    \"\"\"\n",
        "    return length * width\n",
        "\n",
        "area = calculate_area_rectangle(10, 5)\n",
        "print(\"Area of rectangle:\", area)\n",
        "# You can access the docstring using help() or __doc__\n",
        "help(calculate_area_rectangle)\n",
        "print(calculate_area_rectangle.__doc__)\n"
      ],
      "metadata": {
        "colab": {
          "base_uri": "https://localhost:8080/"
        },
        "id": "O960RP6mZeNk",
        "outputId": "66f9d8d4-af44-4c49-86da-10ff74929186"
      },
      "execution_count": null,
      "outputs": [
        {
          "output_type": "stream",
          "name": "stdout",
          "text": [
            "Area of rectangle: 50\n",
            "Help on function calculate_area_rectangle in module __main__:\n",
            "\n",
            "calculate_area_rectangle(length, width)\n",
            "    Calculates the area of a rectangle.\n",
            "    \n",
            "    Args:\n",
            "        length (float or int): The length of the rectangle.\n",
            "        width (float or int): The width of the rectangle.\n",
            "    \n",
            "    Returns:\n",
            "        float or int: The calculated area of the rectangle.\n",
            "\n",
            "\n",
            "    Calculates the area of a rectangle.\n",
            "\n",
            "    Args:\n",
            "        length (float or int): The length of the rectangle.\n",
            "        width (float or int): The width of the rectangle.\n",
            "\n",
            "    Returns:\n",
            "        float or int: The calculated area of the rectangle.\n",
            "    \n"
          ]
        }
      ]
    },
    {
      "cell_type": "markdown",
      "source": [
        "**Scope of variables:**\n",
        "   - Local variables: Defined inside a function, only accessible within that function.\n",
        "   - Global variables: Defined outside any function, accessible from anywhere in the code.\n",
        "\n",
        "**Code Example:**"
      ],
      "metadata": {
        "id": "YI3ZlZImZs1G"
      }
    },
    {
      "cell_type": "code",
      "source": [
        "global_var = \"I am global\"\n",
        "\n",
        "def my_function_scope():\n",
        "    local_var = \"I am local\"\n",
        "    print(local_var)\n",
        "    print(global_var) # Can access global variables\n",
        "\n",
        "my_function_scope()\n",
        "print(global_var)\n",
        "# print(local_var) # This would cause an NameError because local_var is not defined globally\n"
      ],
      "metadata": {
        "colab": {
          "base_uri": "https://localhost:8080/"
        },
        "id": "DSuuWtyoZp4n",
        "outputId": "f26932f0-36e2-43a7-e1a4-f2caad0326aa"
      },
      "execution_count": null,
      "outputs": [
        {
          "output_type": "stream",
          "name": "stdout",
          "text": [
            "I am local\n",
            "I am global\n",
            "I am global\n"
          ]
        }
      ]
    },
    {
      "cell_type": "markdown",
      "source": [
        "**Section 8:** Classes and Objects (Introduction - Skimming) (Approx. 15 minutes)\n",
        "\n",
        "Python is an Object-Oriented Programming (OOP) language.\n",
        "OOP is a way of thinking about and structuring programs.\n",
        "\n",
        "What is a Class?\n",
        "   - A blueprint or template for creating objects.\n",
        "   - Defines a set of attributes (data/variables) and methods (functions)\n",
        "     that the objects created from the class will have.\n",
        "   - Think of a class like a cookie cutter.\n",
        "\n",
        "What is an Object (Instance)?\n",
        "   - An instance of a class.\n",
        "   - A concrete entity created from the class blueprint.\n",
        "   - Think of an object like an actual cookie made using the cookie cutter.\n",
        "\n",
        " Defining a simple class:\n",
        "   - Use the `class` keyword.\n",
        "   - Class names are typically written in CamelCase (e.g., MyClass, Dog, Car).\n",
        "\n",
        "**Code Example:**\n"
      ],
      "metadata": {
        "id": "sOC_c_fCZ5Nu"
      }
    },
    {
      "cell_type": "code",
      "source": [
        "class Dog:\n",
        "    # This is a special method called the constructor.\n",
        "    # It's called automatically when you create a new object (instance) of the class.\n",
        "    # `self` refers to the instance being created.\n",
        "    def __init__(self, name_param, breed_param):\n",
        "        # These are attributes (instance variables)\n",
        "        self.name = name_param\n",
        "        self.breed = breed_param\n",
        "        print(f\"{self.name} the {self.breed} has been created!\")\n",
        "\n",
        "    # This is a method (a function defined inside a class)\n",
        "    def bark(self):\n",
        "        print(f\"{self.name} says: Woof!\")\n",
        "\n",
        "    def describe(self):\n",
        "        print(f\"My name is {self.name} and I am a {self.breed}.\")\n",
        "\n",
        "# Creating objects (instances) of the class:\n",
        "dog1 = Dog(\"Buddy\", \"Golden Retriever\") # This calls the __init__ method\n",
        "dog2 = Dog(\"Lucy\", \"Poodle\")\n",
        "\n",
        "# Accessing attributes of an object:\n",
        "print(f\"\\nDog 1's name: {dog1.name}\")\n",
        "print(f\"Dog 2's breed: {dog2.breed}\")\n",
        "\n",
        "# Calling methods of an object:\n",
        "dog1.bark()\n",
        "dog2.bark()\n",
        "dog1.describe()\n",
        "dog2.describe()"
      ],
      "metadata": {
        "colab": {
          "base_uri": "https://localhost:8080/"
        },
        "id": "csBcDht2Z29q",
        "outputId": "c21d407d-275f-4789-8e48-40c3f2f354f1"
      },
      "execution_count": null,
      "outputs": [
        {
          "output_type": "stream",
          "name": "stdout",
          "text": [
            "Buddy the Golden Retriever has been created!\n",
            "Lucy the Poodle has been created!\n",
            "\n",
            "Dog 1's name: Buddy\n",
            "Dog 2's breed: Poodle\n",
            "Buddy says: Woof!\n",
            "Lucy says: Woof!\n",
            "My name is Buddy and I am a Golden Retriever.\n",
            "My name is Lucy and I am a Poodle.\n"
          ]
        }
      ]
    },
    {
      "cell_type": "markdown",
      "source": [
        "This is a very brief introduction.</br> OOP has many more concepts like\n",
        "inheritance, polymorphism, and encapsulation, which you'll learn later.\n",
        "For now, understand that classes help group related data and functions together.\n"
      ],
      "metadata": {
        "id": "k06ZaFquacje"
      }
    },
    {
      "cell_type": "markdown",
      "source": [
        "**Section 9:** Decorators (Introduction - Skimming) (Approx. 15 minutes)\n",
        "\n",
        "\n",
        "Decorators are a more advanced Python concept.\n",
        "\n",
        "They provide a way to modify or enhance functions (or methods) in a clean and reusable way.\n",
        "\n",
        "Essentially, a decorator is a function that takes another function as an argument,\n",
        "adds some functionality, and returns another function, without explicitly modifying the original function's code.\n",
        "\n",
        "To understand decorators, you need to know that functions are \"first-class objects\" in Python:\n",
        "   - You can assign functions to variables.\n",
        "   - You can pass functions as arguments to other functions.\n",
        "   - You can return functions from other functions.\n",
        "\n",
        "**Example:** Assigning a function to a variable\n"
      ],
      "metadata": {
        "id": "JIQGYVHEargK"
      }
    },
    {
      "cell_type": "code",
      "source": [
        "# Example: Assigning a function to a variable\n",
        "def say_hello():\n",
        "    return \"Hello!\"\n",
        "\n",
        "greet_func = say_hello # Assigning the function, not calling it (no parentheses)\n",
        "print(greet_func())    # Now call it using the new variable"
      ],
      "metadata": {
        "colab": {
          "base_uri": "https://localhost:8080/"
        },
        "id": "KF8wnRiSaYuJ",
        "outputId": "e3171b1b-e696-46d8-dda1-c899035b8eba"
      },
      "execution_count": null,
      "outputs": [
        {
          "output_type": "stream",
          "name": "stdout",
          "text": [
            "Hello!\n"
          ]
        }
      ]
    },
    {
      "cell_type": "code",
      "source": [
        "# A simple decorator example:\n",
        "def my_decorator(func_to_decorate):\n",
        "    def wrapper_function():\n",
        "        print(\"Something is happening BEFORE the function is called.\")\n",
        "        func_to_decorate() # Call the original function\n",
        "        print(\"Something is happening AFTER the function is called.\")\n",
        "    return wrapper_function # Return the wrapper function"
      ],
      "metadata": {
        "id": "f-1lBLMBbM5p"
      },
      "execution_count": null,
      "outputs": []
    },
    {
      "cell_type": "code",
      "source": [
        "# Now, let's create a function we want to decorate\n",
        "def say_whee():\n",
        "    print(\"Whee!\")\n"
      ],
      "metadata": {
        "id": "SHkKBbzCbTHN"
      },
      "execution_count": null,
      "outputs": []
    },
    {
      "cell_type": "code",
      "source": [
        "# We can \"decorate\" say_whee manually like this:\n",
        "decorated_say_whee = my_decorator(say_whee)\n",
        "decorated_say_whee() # Call the decorated function"
      ],
      "metadata": {
        "colab": {
          "base_uri": "https://localhost:8080/"
        },
        "id": "5XfT0TtZbWpj",
        "outputId": "4506721a-d71c-46b7-d814-052ac57938f9"
      },
      "execution_count": null,
      "outputs": [
        {
          "output_type": "stream",
          "name": "stdout",
          "text": [
            "Something is happening BEFORE the function is called.\n",
            "Whee!\n",
            "Something is happening AFTER the function is called.\n"
          ]
        }
      ]
    },
    {
      "cell_type": "code",
      "source": [
        "# Python provides a special syntax for decorators using the `@` symbol:\n",
        "@my_decorator # This is equivalent to: say_yippee = my_decorator(say_yippee)\n",
        "def say_yippee():\n",
        "    print(\"Yippee!\")\n",
        "\n",
        "say_yippee() # Call the decorated function"
      ],
      "metadata": {
        "colab": {
          "base_uri": "https://localhost:8080/"
        },
        "id": "Vu8rAmV3bayc",
        "outputId": "02b3b034-5fda-46a4-c5d9-0152430e0ea8"
      },
      "execution_count": null,
      "outputs": [
        {
          "output_type": "stream",
          "name": "stdout",
          "text": [
            "Something is happening BEFORE the function is called.\n",
            "Yippee!\n",
            "Something is happening AFTER the function is called.\n"
          ]
        }
      ]
    },
    {
      "cell_type": "code",
      "source": [
        "# Decorators with arguments in the decorated function:\n",
        "def another_decorator(func):\n",
        "    def wrapper(*args, **kwargs): # *args and **kwargs allow the wrapper to accept any arguments\n",
        "        print(\"--- Decorator Start ---\")\n",
        "        result = func(*args, **kwargs) # Call the original function with its arguments\n",
        "        print(\"--- Decorator End ---\")\n",
        "        return result # Return the result of the original function\n",
        "    return wrapper"
      ],
      "metadata": {
        "id": "pdb07BLObc0V"
      },
      "execution_count": null,
      "outputs": []
    },
    {
      "cell_type": "code",
      "source": [
        "@another_decorator\n",
        "def add(a, b):\n",
        "    print(f\"Adding {a} and {b}\")\n",
        "    return a + b"
      ],
      "metadata": {
        "id": "WzZJhLspbe1y"
      },
      "execution_count": null,
      "outputs": []
    },
    {
      "cell_type": "code",
      "source": [
        "sum_result = add(10, 5)\n",
        "print(f\"Sum: {sum_result}\")"
      ],
      "metadata": {
        "colab": {
          "base_uri": "https://localhost:8080/"
        },
        "id": "td_FXSNvbgi3",
        "outputId": "824efd6b-3cca-41ba-aa57-6acb1542303a"
      },
      "execution_count": null,
      "outputs": [
        {
          "output_type": "stream",
          "name": "stdout",
          "text": [
            "--- Decorator Start ---\n",
            "Adding 10 and 5\n",
            "--- Decorator End ---\n",
            "Sum: 15\n"
          ]
        }
      ]
    },
    {
      "cell_type": "code",
      "source": [
        "@another_decorator\n",
        "def greet_with_name(name, greeting=\"Hello\"):\n",
        "    print(f\"{greeting}, {name}!\")"
      ],
      "metadata": {
        "id": "zNC-quHEbjwR"
      },
      "execution_count": null,
      "outputs": []
    },
    {
      "cell_type": "code",
      "source": [
        "greet_with_name(\"Students\")\n",
        "greet_with_name(\"World\", greeting=\"Hi\")"
      ],
      "metadata": {
        "colab": {
          "base_uri": "https://localhost:8080/"
        },
        "id": "hnoE5-RjbmF5",
        "outputId": "0fa5c78d-89b1-48b6-c846-808df619d549"
      },
      "execution_count": null,
      "outputs": [
        {
          "output_type": "stream",
          "name": "stdout",
          "text": [
            "--- Decorator Start ---\n",
            "Hello, Students!\n",
            "--- Decorator End ---\n",
            "--- Decorator Start ---\n",
            "Hi, World!\n",
            "--- Decorator End ---\n"
          ]
        }
      ]
    },
    {
      "cell_type": "markdown",
      "source": [
        "**Decorators** are powerful for tasks like:\n",
        "   - Logging function calls\n",
        "   - Timing how long a function takes to run\n",
        "   - Adding access control or authentication checks\n",
        "   - And much more!\n",
        "\n",
        " This is just a glimpse. Don't worry if it seems complex now;\n",
        "\n",
        " you'll revisit and understand decorators more deeply as you progress in Python.\n",
        "\n",
        "\n"
      ],
      "metadata": {
        "id": "V9VgAXLmbsWx"
      }
    },
    {
      "cell_type": "markdown",
      "source": [
        "**End of Introduction! (Approx. 5 minutes for wrap-up)**\n",
        "\n",
        "\n",
        "Congratulations! You've covered a lot of ground in this introduction to Python.\n",
        "\n",
        "We've explored:\n",
        "   - What Python is\n",
        "   - Writing your first \"Hello, World!\" program\n",
        "   - Variables and basic data types (integers, floats, strings, booleans)\n",
        "   - Conditional statements (`if`, `elif`, `else`)\n",
        "   - Loops (`for`, `while`, `break`, `continue`)\n",
        "   - Basic data structures (lists, tuples, dictionaries, sets)\n",
        "   - Functions (defining, calling, parameters, return values, docstrings)\n",
        "   - A brief introduction to Classes and Objects\n",
        "   - A quick look at Decorators\n",
        "\n",
        "**Next Steps:**\n",
        "   - Practice! The more you code, the better you'll understand these concepts.\n",
        "   - Explore online resources like the official Python documentation, Codecademy, freeCodeCamp, etc.\n",
        "   - Work on small projects to apply what you've learned.\n",
        "\n"
      ],
      "metadata": {
        "id": "1ix-O_MZb6RQ"
      }
    },
    {
      "cell_type": "markdown",
      "source": [
        "### Happy coding!"
      ],
      "metadata": {
        "id": "C5VvdptAcLnk"
      }
    },
    {
      "cell_type": "code",
      "source": [],
      "metadata": {
        "id": "SNa1Bh7tb5q0"
      },
      "execution_count": null,
      "outputs": []
    }
  ]
}