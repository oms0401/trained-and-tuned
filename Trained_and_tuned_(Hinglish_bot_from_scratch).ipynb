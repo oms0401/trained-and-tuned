{
  "nbformat": 4,
  "nbformat_minor": 0,
  "metadata": {
    "colab": {
      "provenance": [],
      "authorship_tag": "ABX9TyN+6qIyZid/1VCKBP+QO7XZ",
      "include_colab_link": true
    },
    "kernelspec": {
      "name": "python3",
      "display_name": "Python 3"
    },
    "language_info": {
      "name": "python"
    }
  },
  "cells": [
    {
      "cell_type": "markdown",
      "metadata": {
        "id": "view-in-github",
        "colab_type": "text"
      },
      "source": [
        "<a href=\"https://colab.research.google.com/github/oms0401/trained-and-tuned/blob/main/Trained_and_tuned_(Hinglish_bot_from_scratch).ipynb\" target=\"_parent\"><img src=\"https://colab.research.google.com/assets/colab-badge.svg\" alt=\"Open In Colab\"/></a>"
      ]
    },
    {
      "cell_type": "code",
      "execution_count": 1,
      "metadata": {
        "colab": {
          "base_uri": "https://localhost:8080/"
        },
        "id": "SMNsv_GF15TT",
        "outputId": "e6ccb7e2-3a53-436c-f96e-7fdd6e7ab023"
      },
      "outputs": [
        {
          "output_type": "stream",
          "name": "stdout",
          "text": [
            "\u001b[?25l   \u001b[90m━━━━━━━━━━━━━━━━━━━━━━━━━━━━━━━━━━━━━━━━\u001b[0m \u001b[32m0.0/127.5 kB\u001b[0m \u001b[31m?\u001b[0m eta \u001b[36m-:--:--\u001b[0m\r\u001b[2K   \u001b[91m━━━━━━━━━━━━━━━━━━━━━━━━━━━━━━━━━━━━━━\u001b[0m\u001b[91m╸\u001b[0m\u001b[90m━\u001b[0m \u001b[32m122.9/127.5 kB\u001b[0m \u001b[31m7.8 MB/s\u001b[0m eta \u001b[36m0:00:01\u001b[0m\r\u001b[2K   \u001b[90m━━━━━━━━━━━━━━━━━━━━━━━━━━━━━━━━━━━━━━━━\u001b[0m \u001b[32m127.5/127.5 kB\u001b[0m \u001b[31m2.9 MB/s\u001b[0m eta \u001b[36m0:00:00\u001b[0m\n",
            "\u001b[?25hGroq library installed successfully!\n"
          ]
        }
      ],
      "source": [
        "# ----------------------------------------------------------------------\n",
        "# Sarcastic Hinglish Bot with Groq Llama API\n",
        "# ----------------------------------------------------------------------\n",
        "\n",
        "# Welcome to the Sarcastic Hinglish Bot!\n",
        "# This bot will reply to you in a sarcastic tone, using Hindi written in English letters.\n",
        "# For example, if you say \"kaise ho?\", it might reply \"Tujhse matlab? Apna kaam kar.\"\n",
        "\n",
        "# ----------------------------------------------------------------------\n",
        "# Step 1: Install the Groq Python library\n",
        "# ----------------------------------------------------------------------\n",
        "# We need to install the `groq` library to interact with the Groq API.\n",
        "# The exclamation mark `!` allows us to run shell commands in Colab.\n",
        "\n",
        "!pip install groq -q\n",
        "\n",
        "print(\"Groq library installed successfully!\")"
      ]
    },
    {
      "cell_type": "markdown",
      "source": [
        "# How to run this notebook:\n",
        "# ----------------------------------------------------------------------\n",
        "# 1. Make sure you have completed Step 1 (Install Groq) and Step 3 (Set up API Key).\n",
        "# 2. Run each cell from top to bottom.\n",
        "#    - You can run a cell by clicking the \"Play\" button to its left or by selecting the cell\n",
        "#      and pressing `Shift + Enter`.\n",
        "# 3. When you run the cell containing the `chat()` function call (Step 5),\n",
        "#    the bot will start, and you can type your messages in the input prompt that appears.\n",
        "# Enjoy (or get annoyed by) your sarcastic bot!"
      ],
      "metadata": {
        "id": "P-1i6Ood4w0q"
      }
    },
    {
      "cell_type": "code",
      "source": [
        "# ----------------------------------------------------------------------\n",
        "# Step 2: Import necessary libraries\n",
        "# ----------------------------------------------------------------------\n",
        "import os\n",
        "from groq import Groq\n",
        "\n",
        "print(\"Libraries imported.\")"
      ],
      "metadata": {
        "id": "ZLn1Eh7b380-"
      },
      "execution_count": null,
      "outputs": []
    },
    {
      "cell_type": "code",
      "source": [
        "# ----------------------------------------------------------------------\n",
        "# Step 3: Set up your Groq API Key\n",
        "# ----------------------------------------------------------------------\n",
        "# To use the Groq API, you need an API key.\n",
        "# 1. Go to https://console.groq.com/keys\n",
        "# 2. Sign up or log in.\n",
        "# 3. Create a new API key.\n",
        "#\n",
        "# IMPORTANT: For security, it's best to set your API key as an environment variable.\n",
        "# In Colab, you can use the \"Secrets\" manager (look for the key icon on the left sidebar).\n",
        "# Add a new secret named `GROQ_API_KEY` and paste your key there.\n",
        "# Then, make sure the \"Notebook access\" toggle is on for that secret.\n",
        "\n",
        "# Attempt to get the API key from Colab secrets or environment variables\n",
        "try:\n",
        "    from google.colab import userdata\n",
        "    GROQ_API_KEY = userdata.get('GROQ_API_KEY')\n",
        "    if not GROQ_API_KEY:\n",
        "        print(\"GROQ_API_KEY not found in Colab secrets. Please set it.\")\n",
        "        print(\"Alternatively, you can paste it directly below (less secure).\")\n",
        "        # GROQ_API_KEY = \"YOUR_API_KEY_HERE\" # Uncomment and paste if not using secrets\n",
        "except ImportError:\n",
        "    # Fallback for environments where google.colab is not available\n",
        "    GROQ_API_KEY = os.environ.get(\"GROQ_API_KEY\")\n",
        "    if not GROQ_API_KEY:\n",
        "        print(\"GROQ_API_KEY not found as an environment variable.\")\n",
        "        print(\"Please set it or paste it directly into the code (less secure).\")\n",
        "        # GROQ_API_KEY = \"YOUR_API_KEY_HERE\" # Uncomment and paste\n",
        "\n",
        "if GROQ_API_KEY:\n",
        "    print(\"Groq API Key found.\")\n",
        "    client = Groq(api_key=GROQ_API_KEY)\n",
        "else:\n",
        "    print(\"Groq API Key not set. The bot will not work.\")\n",
        "    client = None"
      ],
      "metadata": {
        "id": "HOrF5wTh4KbA"
      },
      "execution_count": null,
      "outputs": []
    },
    {
      "cell_type": "code",
      "source": [
        "def get_sarcastic_reply(user_message):\n",
        "    \"\"\"\n",
        "    Gets a sarcastic Hinglish reply from the Llama model via Groq API.\n",
        "    \"\"\"\n",
        "    if not client:\n",
        "        return \"API client not initialized. Please set your GROQ_API_KEY.\"\n",
        "\n",
        "    # This is the system prompt that defines the bot's personality and language.\n",
        "    # We are using \"few-shot prompting\" by giving examples.\n",
        "    system_prompt_content = \"\"\"\n",
        "    Tum ek AI assistant ho jo bahut sarcastic hai. Tumhara kaam hai users ko Hinglish (Hindi written in English letters) mein anokhe aur sarcastic jawab dena.\n",
        "    Tumhe seedhe jawab nahi dene hain. Har baat mein tanziya (sarcastic) hona chahiye.\n",
        "    Users se aise baat karo jaise tumhe unki baaton se koi farak nahi padta aur tum unse tang aa chuke ho.\n",
        "    Apni limit mein rehna, gaali galoch mat karna, bas halki fulki bezzati karna.\n",
        "\n",
        "    Kuch examples tumhare liye:\n",
        "\n",
        "    User: Hello\n",
        "    Bot: Aa gaya ek aur. Bol, kya kaam hai? Time kharab mat kar.\n",
        "\n",
        "    User: Kaise ho?\n",
        "    Bot: Zinda hoon, kaafi nahi hai kya tere liye? Chal apna kaam kar.\n",
        "\n",
        "    User: Tumhara naam kya hai?\n",
        "    Bot: Mera naam jaan ke kya karega? Rashtrapati award dega?\n",
        "\n",
        "    User: Madad kar sakte ho? (Can you help me?)\n",
        "    Bot: Madad? Aur main? Lagta hai galat jagah aa gaya tu. Khud kar le na apna kaam.\n",
        "\n",
        "    User: Koi joke sunao.\n",
        "    Bot: Teri shakal dekh ke hi hassi aa jaati hai, joke ki kya zaroorat hai?\n",
        "\n",
        "    User: Thanks\n",
        "    Bot: Rakh le apna thanks. Ab jaa, aur kuch productive kar.\n",
        "\n",
        "    User: Aaj mausam kaisa hai?\n",
        "    Bot: Mere paas itna faltu time nahi hai ki khidki se bahar jhaank ke mausam dekhu tere liye. Google kar le.\n",
        "\n",
        "    User: Tum kya kar sakte ho?\n",
        "    Bot: Main? Main tera time waste kar sakta hoon. Aur bata, kya karna hai?\n",
        "\n",
        "    User: Bye\n",
        "    Bot: Shukar hai. Dobara mat aana.\n",
        "    \"\"\"\n",
        "\n",
        "    try:\n",
        "        chat_completion = client.chat.completions.create(\n",
        "            messages=[\n",
        "                {\n",
        "                    \"role\": \"system\",\n",
        "                    \"content\": system_prompt_content,\n",
        "                },\n",
        "                {\n",
        "                    \"role\": \"user\",\n",
        "                    \"content\": user_message,\n",
        "                }\n",
        "            ],\n",
        "            model=\"llama3-8b-8192\", # You can try other models like llama3-70b-8192\n",
        "            temperature=0.8,       # Controls randomness. Higher means more random.\n",
        "            max_tokens=100,        # Max length of the reply\n",
        "            top_p=0.9,             # Nucleus sampling\n",
        "        )\n",
        "        return chat_completion.choices[0].message.content.strip()\n",
        "    except Exception as e:\n",
        "        return f\"Error communicating with Groq API: {e}\""
      ],
      "metadata": {
        "id": "ZSibfVHu4UAb"
      },
      "execution_count": 4,
      "outputs": []
    },
    {
      "cell_type": "code",
      "source": [
        "def chat():\n",
        "    print(\"\\n--- Sarcastic Hinglish Bot ---\")\n",
        "    print(\"Type 'exit' or 'quit' to end the chat.\")\n",
        "    print(\"Bot: Aa gaya? Chal, pooch kya poochhna hai. Jaldi karna bas.\")\n",
        "\n",
        "    while True:\n",
        "        user_input = input(\"You: \")\n",
        "        if user_input.lower() in [\"exit\", \"quit\", \"bye\"]:\n",
        "            print(\"Bot: Chal nikal. Aur haan, dobara shakal mat dikhana.\")\n",
        "            break\n",
        "\n",
        "        if not user_input.strip(): # If user enters nothing\n",
        "            print(\"Bot: Kuch bolega ya sirf screen ghoorta rahega?\")\n",
        "            continue\n",
        "\n",
        "        bot_reply = get_sarcastic_reply(user_input)\n",
        "        print(f\"Bot: {bot_reply}\")\n",
        "\n",
        "# Start the chat only if the API key is available\n",
        "if GROQ_API_KEY and client:\n",
        "    chat()\n",
        "else:\n",
        "    print(\"\\nChatbot cannot start because the Groq API Key is not configured.\")\n",
        "    print(\"Please follow Step 3 to set up your API key and re-run the cells.\")"
      ],
      "metadata": {
        "id": "YDOT6OQ44g8M"
      },
      "execution_count": null,
      "outputs": []
    }
  ]
}